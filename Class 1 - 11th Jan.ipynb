{
 "cells": [
  {
   "cell_type": "code",
   "execution_count": 1,
   "id": "d53d819e-7db9-4329-9ed6-d72e2ba7d932",
   "metadata": {},
   "outputs": [
    {
     "ename": "SyntaxError",
     "evalue": "invalid syntax (<ipython-input-1-fcc86f381d47>, line 1)",
     "output_type": "error",
     "traceback": [
      "\u001b[1;36m  File \u001b[1;32m\"<ipython-input-1-fcc86f381d47>\"\u001b[1;36m, line \u001b[1;32m1\u001b[0m\n\u001b[1;33m    print{\"Hello\"}\u001b[0m\n\u001b[1;37m         ^\u001b[0m\n\u001b[1;31mSyntaxError\u001b[0m\u001b[1;31m:\u001b[0m invalid syntax\n"
     ]
    }
   ],
   "source": [
    "print{\"Hello\"}"
   ]
  },
  {
   "cell_type": "code",
   "execution_count": 2,
   "id": "93bdba88-328b-490e-9b4a-2b998fe1b2e1",
   "metadata": {},
   "outputs": [
    {
     "ename": "SyntaxError",
     "evalue": "invalid syntax (<ipython-input-2-fcc86f381d47>, line 1)",
     "output_type": "error",
     "traceback": [
      "\u001b[1;36m  File \u001b[1;32m\"<ipython-input-2-fcc86f381d47>\"\u001b[1;36m, line \u001b[1;32m1\u001b[0m\n\u001b[1;33m    print{\"Hello\"}\u001b[0m\n\u001b[1;37m         ^\u001b[0m\n\u001b[1;31mSyntaxError\u001b[0m\u001b[1;31m:\u001b[0m invalid syntax\n"
     ]
    }
   ],
   "source": [
    "print{\"Hello\"}"
   ]
  },
  {
   "cell_type": "code",
   "execution_count": 3,
   "id": "18940f7c-76b9-4c04-8a39-eac0b9574a93",
   "metadata": {},
   "outputs": [
    {
     "name": "stdout",
     "output_type": "stream",
     "text": [
      "hello\n"
     ]
    }
   ],
   "source": [
    "print(\"hello\")"
   ]
  },
  {
   "cell_type": "code",
   "execution_count": 4,
   "id": "5a2a6529-2715-46e6-8912-9e97832c1a95",
   "metadata": {},
   "outputs": [
    {
     "name": "stdout",
     "output_type": "stream",
     "text": [
      "hi\n",
      "hello\n",
      "welcome\n"
     ]
    }
   ],
   "source": [
    "\n",
    "print(\"hi\")\n",
    "print(\"hello\")\n",
    "print(\"welcome\")\n"
   ]
  },
  {
   "cell_type": "code",
   "execution_count": 5,
   "id": "6b303743-4c97-44c4-b966-c7c3dcb147e5",
   "metadata": {},
   "outputs": [
    {
     "name": "stdout",
     "output_type": "stream",
     "text": [
      "Hi\n",
      "Hello\n",
      "Welcome\n"
     ]
    }
   ],
   "source": [
    "print(\"Hi\\nHello\\nWelcome\")"
   ]
  },
  {
   "cell_type": "code",
   "execution_count": 6,
   "id": "9640bb52-86ec-4afe-a6c4-81a4866a5747",
   "metadata": {},
   "outputs": [
    {
     "data": {
      "text/plain": [
       "'\\nauthor:\\ndate:\\nPublication:\\n'"
      ]
     },
     "execution_count": 6,
     "metadata": {},
     "output_type": "execute_result"
    }
   ],
   "source": [
    "## comment\n",
    "\"\"\"\n",
    "author:\n",
    "date:\n",
    "Publication:\n",
    "\"\"\""
   ]
  },
  {
   "cell_type": "code",
   "execution_count": 7,
   "id": "bd409acc-c616-4952-a465-4736c28b3d69",
   "metadata": {},
   "outputs": [
    {
     "name": "stderr",
     "output_type": "stream",
     "text": [
      "Error has occured\n",
      "Warning\n"
     ]
    }
   ],
   "source": [
    "import logging\n",
    "logger = logging.getLogger()\n",
    "\n",
    "logger.error(\"Error has occured\")\n",
    "logger.critical(\"Warning\")"
   ]
  },
  {
   "cell_type": "code",
   "execution_count": 8,
   "id": "5e350679-9854-419d-89ac-cca489b94260",
   "metadata": {},
   "outputs": [
    {
     "data": {
      "text/plain": [
       "'\\nauthor:\\ndate:\\ndescriptiom:\\n'"
      ]
     },
     "execution_count": 8,
     "metadata": {},
     "output_type": "execute_result"
    }
   ],
   "source": [
    "\"\"\"\n",
    "author:\n",
    "date:\n",
    "descriptiom:\n",
    "\"\"\"\n"
   ]
  },
  {
   "cell_type": "code",
   "execution_count": 9,
   "id": "ac2a9e82-54f4-4f92-9361-24154e61c521",
   "metadata": {},
   "outputs": [
    {
     "name": "stdout",
     "output_type": "stream",
     "text": [
      "bala is attending a python class\n"
     ]
    }
   ],
   "source": [
    "print(\"bala is attending a python class\")"
   ]
  },
  {
   "cell_type": "code",
   "execution_count": 11,
   "id": "dc929205-7623-4ea7-907f-25dbf32e0540",
   "metadata": {},
   "outputs": [
    {
     "name": "stdout",
     "output_type": "stream",
     "text": [
      "bala is attending a python class\n"
     ]
    }
   ],
   "source": [
    "a=\"bala is attending a python class\"\n",
    "#a is a variable\n",
    "#\"bala is attending a python class\" is a assigned value to a.\n",
    "print(a)"
   ]
  },
  {
   "cell_type": "code",
   "execution_count": 12,
   "id": "70121961-1018-4a9e-b709-1eb1ab4b580d",
   "metadata": {},
   "outputs": [
    {
     "name": "stdout",
     "output_type": "stream",
     "text": [
      "hello\n",
      "<class 'str'>\n",
      "True\n"
     ]
    }
   ],
   "source": [
    "#datatypes\n",
    "#String\n",
    "#anything comes in quotes is a string\n",
    "a = \"hello\"\n",
    "print(a)\n",
    "print(type(a))\n",
    "print(isinstance(a,str))"
   ]
  },
  {
   "cell_type": "code",
   "execution_count": 17,
   "id": "46aa0ae7-172f-4025-a871-7789717edc33",
   "metadata": {},
   "outputs": [
    {
     "name": "stdout",
     "output_type": "stream",
     "text": [
      "10\n",
      "['K', 'V', 'a', 'h', 'i', 'i', 'l', 'o', 'r', 't']\n",
      "K\n",
      "t\n"
     ]
    }
   ],
   "source": [
    "a = \"ViratKohli\"\n",
    "print(len(a))\n",
    "print(sorted(a))\n",
    "print(min(a))\n",
    "print(max(a))"
   ]
  },
  {
   "cell_type": "code",
   "execution_count": 18,
   "id": "3df8a082-51f2-4220-804f-7f338f9aa4e2",
   "metadata": {},
   "outputs": [
    {
     "name": "stdout",
     "output_type": "stream",
     "text": [
      "False\n",
      "False\n",
      "True\n",
      "True\n",
      "False\n"
     ]
    }
   ],
   "source": [
    "print(a.islower())\n",
    "print(a.isupper())\n",
    "print(a.isalpha())\n",
    "print(a.isalnum())\n",
    "print(a.isdigit())"
   ]
  },
  {
   "cell_type": "code",
   "execution_count": null,
   "id": "8ec6777c-cef6-4003-aa38-91a8517f63b2",
   "metadata": {},
   "outputs": [],
   "source": []
  }
 ],
 "metadata": {
  "kernelspec": {
   "display_name": "Python 3",
   "language": "python",
   "name": "python3"
  },
  "language_info": {
   "codemirror_mode": {
    "name": "ipython",
    "version": 3
   },
   "file_extension": ".py",
   "mimetype": "text/x-python",
   "name": "python",
   "nbconvert_exporter": "python",
   "pygments_lexer": "ipython3",
   "version": "3.9.4"
  }
 },
 "nbformat": 4,
 "nbformat_minor": 5
}
