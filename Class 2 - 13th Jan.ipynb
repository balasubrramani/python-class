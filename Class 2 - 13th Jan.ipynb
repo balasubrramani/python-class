{
 "cells": [
  {
   "cell_type": "code",
   "execution_count": 5,
   "id": "6452fea7-796a-478a-bb12-256c37c9e5fe",
   "metadata": {},
   "outputs": [
    {
     "name": "stdout",
     "output_type": "stream",
     "text": [
      "sachin\n",
      "['sachin']\n",
      "h\n",
      "i\n"
     ]
    }
   ],
   "source": [
    "a = \"sachin\"\n",
    "print(a)\n",
    "print([a])\n",
    "print(a[3])\n",
    "print(a[-2])\n"
   ]
  },
  {
   "cell_type": "code",
   "execution_count": 14,
   "id": "760c3262-2c8f-4286-8515-89f2fc61d091",
   "metadata": {},
   "outputs": [
    {
     "name": "stdout",
     "output_type": "stream",
     "text": [
      "sachin\n",
      "ahn\n",
      "nihcas\n",
      "\n"
     ]
    }
   ],
   "source": [
    "#[start : end : interval]\n",
    "print(a[:])\n",
    "print(a[1::2])\n",
    "print(a[::-1])\n",
    "print(a[-1:-4:])"
   ]
  },
  {
   "cell_type": "code",
   "execution_count": 22,
   "id": "80cd9074-bb43-47d7-8b76-ed25e9f8fbd0",
   "metadata": {},
   "outputs": [
    {
     "name": "stdout",
     "output_type": "stream",
     "text": [
      "3\n"
     ]
    },
    {
     "ename": "ValueError",
     "evalue": "substring not found",
     "output_type": "error",
     "traceback": [
      "\u001b[1;31m---------------------------------------------------------------------------\u001b[0m",
      "\u001b[1;31mValueError\u001b[0m                                Traceback (most recent call last)",
      "\u001b[1;32m<ipython-input-22-6c2f918cf4e6>\u001b[0m in \u001b[0;36m<module>\u001b[1;34m\u001b[0m\n\u001b[0;32m      1\u001b[0m \u001b[1;31m#index\u001b[0m\u001b[1;33m\u001b[0m\u001b[1;33m\u001b[0m\u001b[1;33m\u001b[0m\u001b[0m\n\u001b[0;32m      2\u001b[0m \u001b[0mprint\u001b[0m\u001b[1;33m(\u001b[0m\u001b[0ma\u001b[0m\u001b[1;33m.\u001b[0m\u001b[0mindex\u001b[0m\u001b[1;33m(\u001b[0m\u001b[1;34m\"h\"\u001b[0m\u001b[1;33m)\u001b[0m\u001b[1;33m)\u001b[0m\u001b[1;33m\u001b[0m\u001b[1;33m\u001b[0m\u001b[0m\n\u001b[1;32m----> 3\u001b[1;33m \u001b[0mprint\u001b[0m\u001b[1;33m(\u001b[0m\u001b[0ma\u001b[0m\u001b[1;33m.\u001b[0m\u001b[0mindex\u001b[0m\u001b[1;33m(\u001b[0m\u001b[1;34m\"a\"\u001b[0m \u001b[1;33m,\u001b[0m\u001b[1;36m3\u001b[0m\u001b[1;33m)\u001b[0m\u001b[1;33m)\u001b[0m\u001b[1;33m\u001b[0m\u001b[1;33m\u001b[0m\u001b[0m\n\u001b[0m",
      "\u001b[1;31mValueError\u001b[0m: substring not found"
     ]
    }
   ],
   "source": [
    "#index\n",
    "print(a.index(\"h\"))\n",
    "print(a.index(\"a\" ,3))"
   ]
  },
  {
   "cell_type": "code",
   "execution_count": 25,
   "id": "017e48ad-4434-401a-9ad4-18d07f1d716f",
   "metadata": {},
   "outputs": [
    {
     "name": "stdout",
     "output_type": "stream",
     "text": [
      "1\n"
     ]
    }
   ],
   "source": [
    "print(a.index(\"a\",1))"
   ]
  },
  {
   "cell_type": "code",
   "execution_count": 26,
   "id": "49b587f6-6a24-4128-9f08-b808e2680ba8",
   "metadata": {},
   "outputs": [
    {
     "name": "stdout",
     "output_type": "stream",
     "text": [
      "2\n"
     ]
    }
   ],
   "source": [
    "print(a.index(\"c\",1,5))\n"
   ]
  },
  {
   "cell_type": "code",
   "execution_count": 37,
   "id": "45b2ea7a-0acd-48fb-ad7d-83302e42e94b",
   "metadata": {},
   "outputs": [
    {
     "ename": "ValueError",
     "evalue": "substring not found",
     "output_type": "error",
     "traceback": [
      "\u001b[1;31m---------------------------------------------------------------------------\u001b[0m",
      "\u001b[1;31mValueError\u001b[0m                                Traceback (most recent call last)",
      "\u001b[1;32m<ipython-input-37-0d047548f7ee>\u001b[0m in \u001b[0;36m<module>\u001b[1;34m\u001b[0m\n\u001b[1;32m----> 1\u001b[1;33m \u001b[0mprint\u001b[0m\u001b[1;33m(\u001b[0m\u001b[0ma\u001b[0m\u001b[1;33m.\u001b[0m\u001b[0mrindex\u001b[0m\u001b[1;33m(\u001b[0m\u001b[1;34m\"i\"\u001b[0m\u001b[1;33m,\u001b[0m\u001b[1;36m5\u001b[0m\u001b[1;33m)\u001b[0m\u001b[1;33m)\u001b[0m\u001b[1;33m\u001b[0m\u001b[1;33m\u001b[0m\u001b[0m\n\u001b[0m",
      "\u001b[1;31mValueError\u001b[0m: substring not found"
     ]
    }
   ],
   "source": [
    "print(a.rindex(\"i\",5))"
   ]
  },
  {
   "cell_type": "code",
   "execution_count": 40,
   "id": "a25bb65e-d4f8-4bc4-af2a-69548525ffac",
   "metadata": {},
   "outputs": [
    {
     "name": "stdout",
     "output_type": "stream",
     "text": [
      "-1\n"
     ]
    }
   ],
   "source": [
    "print(a.find(\"h\",5))"
   ]
  },
  {
   "cell_type": "code",
   "execution_count": 45,
   "id": "14b95911-3a1e-462f-9ae8-6ced017813af",
   "metadata": {},
   "outputs": [
    {
     "name": "stdout",
     "output_type": "stream",
     "text": [
      "-1\n"
     ]
    }
   ],
   "source": [
    "print(a.rfind(\"h\",5))"
   ]
  },
  {
   "cell_type": "code",
   "execution_count": 46,
   "id": "3b073bfc-1492-4d15-99ab-d3eb0cdf1841",
   "metadata": {},
   "outputs": [
    {
     "name": "stdout",
     "output_type": "stream",
     "text": [
      "2\n"
     ]
    }
   ],
   "source": [
    "print(a.find(\"c\",2))"
   ]
  },
  {
   "cell_type": "code",
   "execution_count": 47,
   "id": "1c248d7b-eeff-45ad-ac55-3c9a657cd630",
   "metadata": {},
   "outputs": [
    {
     "name": "stdout",
     "output_type": "stream",
     "text": [
      "-1\n"
     ]
    }
   ],
   "source": [
    "print(a.find(\"c\",3))"
   ]
  },
  {
   "cell_type": "code",
   "execution_count": 48,
   "id": "2679b7e3-cd92-4193-bbfd-a8c8e80c5f90",
   "metadata": {},
   "outputs": [
    {
     "name": "stdout",
     "output_type": "stream",
     "text": [
      "2\n"
     ]
    }
   ],
   "source": [
    "print(a.find(\"c\"))"
   ]
  },
  {
   "cell_type": "code",
   "execution_count": 49,
   "id": "91ebba6c-9869-41d8-8212-7acc9184bd3f",
   "metadata": {},
   "outputs": [
    {
     "name": "stdout",
     "output_type": "stream",
     "text": [
      "$achin\n"
     ]
    }
   ],
   "source": [
    "print(a.replace(\"s\",\"$\"))"
   ]
  },
  {
   "cell_type": "code",
   "execution_count": 50,
   "id": "608d77b4-c711-4786-bfb0-878de0bba527",
   "metadata": {},
   "outputs": [
    {
     "name": "stdout",
     "output_type": "stream",
     "text": [
      "&achin\n"
     ]
    }
   ],
   "source": [
    "print(a.replace(\"s\",\"&\",1))"
   ]
  },
  {
   "cell_type": "code",
   "execution_count": 51,
   "id": "e0cb814c-6f7d-4630-98f4-eed05b43a98c",
   "metadata": {},
   "outputs": [
    {
     "name": "stdout",
     "output_type": "stream",
     "text": [
      "1\n"
     ]
    }
   ],
   "source": [
    "print(a.count(\"a\"))"
   ]
  },
  {
   "cell_type": "code",
   "execution_count": 53,
   "id": "6646ff75-0631-42cb-bb55-be085504dbc1",
   "metadata": {},
   "outputs": [
    {
     "name": "stdout",
     "output_type": "stream",
     "text": [
      "['sa', 'hin']\n"
     ]
    }
   ],
   "source": [
    "print(a.split(\"c\"))"
   ]
  },
  {
   "cell_type": "code",
   "execution_count": 54,
   "id": "36875897-1b64-479f-bc9a-b3f6a806e91c",
   "metadata": {},
   "outputs": [
    {
     "name": "stdout",
     "output_type": "stream",
     "text": [
      "['sac', 'in']\n"
     ]
    }
   ],
   "source": [
    "print(a.split(\"h\"))"
   ]
  },
  {
   "cell_type": "code",
   "execution_count": 58,
   "id": "3867aa36-0a8e-482a-92af-f74cae930f1f",
   "metadata": {},
   "outputs": [
    {
     "name": "stdout",
     "output_type": "stream",
     "text": [
      "sachinang\n"
     ]
    }
   ],
   "source": [
    "a = \"sachinang\"\n",
    "print(a)"
   ]
  },
  {
   "cell_type": "code",
   "execution_count": 69,
   "id": "327bcc2b-2e18-4ba7-bb07-3202b619f503",
   "metadata": {},
   "outputs": [
    {
     "name": "stdout",
     "output_type": "stream",
     "text": [
      "s&chin&ng\n"
     ]
    }
   ],
   "source": [
    "print(a.replace(\"a\",\"&\",-1))"
   ]
  },
  {
   "cell_type": "code",
   "execution_count": 70,
   "id": "6c35c10a-e72c-42c5-a905-62de1cdf5eee",
   "metadata": {},
   "outputs": [
    {
     "name": "stdout",
     "output_type": "stream",
     "text": [
      "True\n",
      "False\n",
      "True\n",
      "False\n"
     ]
    }
   ],
   "source": [
    "a = \"Demo\"\n",
    "print(a.startswith(\"D\"))\n",
    "print(a.startswith(\"A\"))\n",
    "print(a.endswith(\"o\"))\n",
    "print(a.endswith(\"K\"))"
   ]
  },
  {
   "cell_type": "code",
   "execution_count": 71,
   "id": "79cf7fc8-89af-469d-a4d5-8ab95b313959",
   "metadata": {},
   "outputs": [
    {
     "name": "stdout",
     "output_type": "stream",
     "text": [
      "Hello welcome to todays class\n",
      "Hello Welcome To Todays Class\n"
     ]
    }
   ],
   "source": [
    "a = \"hello welcome to todays class\"\n",
    "print(a.capitalize())\n",
    "print(a.title())"
   ]
  },
  {
   "cell_type": "code",
   "execution_count": 77,
   "id": "65e3c923-abf8-4d5e-a58f-bc3cd1836b3a",
   "metadata": {},
   "outputs": [
    {
     "name": "stdout",
     "output_type": "stream",
     "text": [
      "123a\n"
     ]
    }
   ],
   "source": [
    "a=\"123a\"\n",
    "print(a)"
   ]
  },
  {
   "cell_type": "code",
   "execution_count": 78,
   "id": "60d16eb7-a8d9-43c0-8668-efa0fb17a137",
   "metadata": {},
   "outputs": [
    {
     "name": "stdout",
     "output_type": "stream",
     "text": [
      "<class 'str'>\n"
     ]
    }
   ],
   "source": [
    "print(type(a))"
   ]
  },
  {
   "cell_type": "code",
   "execution_count": 82,
   "id": "08e3acc3-3e26-412f-a799-8012fa33940c",
   "metadata": {},
   "outputs": [],
   "source": [
    "a=str(a)"
   ]
  },
  {
   "cell_type": "code",
   "execution_count": 83,
   "id": "277fe9fd-039a-466e-9974-a9fa7df2255e",
   "metadata": {},
   "outputs": [
    {
     "name": "stdout",
     "output_type": "stream",
     "text": [
      "<class 'str'>\n"
     ]
    }
   ],
   "source": [
    "print(type(a))"
   ]
  },
  {
   "cell_type": "code",
   "execution_count": 86,
   "id": "26b88a20-6a11-4d42-aeea-679b7bcbcc11",
   "metadata": {},
   "outputs": [
    {
     "ename": "NameError",
     "evalue": "name 'isintance' is not defined",
     "output_type": "error",
     "traceback": [
      "\u001b[1;31m---------------------------------------------------------------------------\u001b[0m",
      "\u001b[1;31mNameError\u001b[0m                                 Traceback (most recent call last)",
      "\u001b[1;32m<ipython-input-86-bafe3c3d4bef>\u001b[0m in \u001b[0;36m<module>\u001b[1;34m\u001b[0m\n\u001b[1;32m----> 1\u001b[1;33m \u001b[0mprint\u001b[0m\u001b[1;33m(\u001b[0m\u001b[0misintance\u001b[0m\u001b[1;33m(\u001b[0m\u001b[0ma\u001b[0m\u001b[1;33m,\u001b[0m\u001b[0mstr\u001b[0m\u001b[1;33m)\u001b[0m\u001b[1;33m)\u001b[0m\u001b[1;33m\u001b[0m\u001b[1;33m\u001b[0m\u001b[0m\n\u001b[0m",
      "\u001b[1;31mNameError\u001b[0m: name 'isintance' is not defined"
     ]
    }
   ],
   "source": [
    "print(isintance(a,str))"
   ]
  },
  {
   "cell_type": "code",
   "execution_count": 87,
   "id": "36d2f8d9-4643-4509-ae2a-c4737348a000",
   "metadata": {},
   "outputs": [
    {
     "name": "stdout",
     "output_type": "stream",
     "text": [
      "Balasubrramani Sankaran\n"
     ]
    }
   ],
   "source": [
    "a=\"Balasubrramani Sankaran\"\n",
    "print(a)"
   ]
  },
  {
   "cell_type": "code",
   "execution_count": 89,
   "id": "bf2b4638-9f87-403e-8210-2d22ff9a5f49",
   "metadata": {},
   "outputs": [
    {
     "name": "stdin",
     "output_type": "stream",
     "text": [
      "Enter user name Balasubrramani Sankaran\n"
     ]
    }
   ],
   "source": [
    "a=input(\"Enter user name\")\n"
   ]
  },
  {
   "cell_type": "code",
   "execution_count": 90,
   "id": "dc9e794c-7cba-4a94-a474-012df53606f1",
   "metadata": {},
   "outputs": [
    {
     "name": "stdout",
     "output_type": "stream",
     "text": [
      "Balasubrramani Sankaran\n"
     ]
    }
   ],
   "source": [
    "print(a)"
   ]
  },
  {
   "cell_type": "code",
   "execution_count": 91,
   "id": "b2010e82-fdcc-47dc-b4ac-00f3c3de52d5",
   "metadata": {},
   "outputs": [
    {
     "name": "stdout",
     "output_type": "stream",
     "text": [
      "<class 'str'>\n"
     ]
    }
   ],
   "source": [
    "print(type(a))"
   ]
  },
  {
   "cell_type": "code",
   "execution_count": 92,
   "id": "1db612ca-2539-43be-8264-4de849cf0b18",
   "metadata": {},
   "outputs": [
    {
     "name": "stdout",
     "output_type": "stream",
     "text": [
      " \n"
     ]
    }
   ],
   "source": [
    "print(min(a))"
   ]
  },
  {
   "cell_type": "code",
   "execution_count": 94,
   "id": "d57d88c6-5ee4-4020-be2a-3996825afa99",
   "metadata": {},
   "outputs": [
    {
     "name": "stdout",
     "output_type": "stream",
     "text": [
      "u\n"
     ]
    }
   ],
   "source": [
    "print(max(a))"
   ]
  },
  {
   "cell_type": "code",
   "execution_count": 96,
   "id": "f07f7058-5917-4c31-b2e4-6c7bd7db8089",
   "metadata": {},
   "outputs": [
    {
     "name": "stdout",
     "output_type": "stream",
     "text": [
      "23\n"
     ]
    }
   ],
   "source": [
    "print(len(a))"
   ]
  },
  {
   "cell_type": "code",
   "execution_count": 97,
   "id": "45f23333-fe47-4b23-972d-9502b20c9797",
   "metadata": {},
   "outputs": [
    {
     "name": "stdout",
     "output_type": "stream",
     "text": [
      "[' ', 'B', 'S', 'a', 'a', 'a', 'a', 'a', 'a', 'a', 'b', 'i', 'k', 'l', 'm', 'n', 'n', 'n', 'r', 'r', 'r', 's', 'u']\n"
     ]
    }
   ],
   "source": [
    "print(sorted(a))"
   ]
  },
  {
   "cell_type": "code",
   "execution_count": 101,
   "id": "e951237c-7cce-42e1-bf2b-3ccc24466007",
   "metadata": {},
   "outputs": [
    {
     "name": "stdout",
     "output_type": "stream",
     "text": [
      "13\n"
     ]
    }
   ],
   "source": [
    "print(a.find(\"i\"))"
   ]
  },
  {
   "cell_type": "code",
   "execution_count": 103,
   "id": "2b5868b2-3a4c-4a20-94be-55c11e2ce8dc",
   "metadata": {},
   "outputs": [
    {
     "name": "stdout",
     "output_type": "stream",
     "text": [
      "18\n"
     ]
    }
   ],
   "source": [
    "print(a.rfind(\"k\"))"
   ]
  },
  {
   "cell_type": "code",
   "execution_count": 104,
   "id": "5f0fa273-336c-4355-b687-5700c10bb734",
   "metadata": {},
   "outputs": [
    {
     "name": "stdout",
     "output_type": "stream",
     "text": [
      "['B', 'l', 'subrr', 'm', 'ni S', 'nk', 'r', 'n']\n"
     ]
    }
   ],
   "source": [
    "print(a.split(\"a\"))"
   ]
  },
  {
   "cell_type": "code",
   "execution_count": 105,
   "id": "cfe97cf8-e0bf-4441-8299-d39506a6fad9",
   "metadata": {},
   "outputs": [
    {
     "name": "stdout",
     "output_type": "stream",
     "text": [
      "B^l^subrr^m^ni S^nk^r^n\n"
     ]
    }
   ],
   "source": [
    "print(a.replace(\"a\",\"^\"))"
   ]
  },
  {
   "cell_type": "code",
   "execution_count": 111,
   "id": "7bab1bf7-5cb6-4f95-993a-a54db302569d",
   "metadata": {},
   "outputs": [
    {
     "name": "stdout",
     "output_type": "stream",
     "text": [
      "3\n"
     ]
    }
   ],
   "source": [
    "print(a.count(\"r\"))"
   ]
  },
  {
   "cell_type": "code",
   "execution_count": null,
   "id": "09c19e52-f40c-472d-9108-ad3e92209575",
   "metadata": {},
   "outputs": [],
   "source": []
  }
 ],
 "metadata": {
  "kernelspec": {
   "display_name": "Python 3",
   "language": "python",
   "name": "python3"
  },
  "language_info": {
   "codemirror_mode": {
    "name": "ipython",
    "version": 3
   },
   "file_extension": ".py",
   "mimetype": "text/x-python",
   "name": "python",
   "nbconvert_exporter": "python",
   "pygments_lexer": "ipython3",
   "version": "3.9.4"
  }
 },
 "nbformat": 4,
 "nbformat_minor": 5
}
