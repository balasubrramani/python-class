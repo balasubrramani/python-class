{
 "cells": [
  {
   "cell_type": "code",
   "execution_count": 1,
   "id": "17cc08ea-9b18-4683-ab88-4c13b0dc24bb",
   "metadata": {},
   "outputs": [],
   "source": [
    "#loops in python"
   ]
  },
  {
   "cell_type": "code",
   "execution_count": 2,
   "id": "5616f0d0-db08-4c93-bc55-30ab5dc040ab",
   "metadata": {},
   "outputs": [],
   "source": [
    "#for, while, if"
   ]
  },
  {
   "cell_type": "code",
   "execution_count": 3,
   "id": "68bd98f7-9d85-4400-8b08-97740672f957",
   "metadata": {},
   "outputs": [],
   "source": [
    "#if conditional statement"
   ]
  },
  {
   "cell_type": "code",
   "execution_count": 6,
   "id": "6426649b-ded4-40b2-b6a7-bf49c998a805",
   "metadata": {},
   "outputs": [
    {
     "name": "stdout",
     "output_type": "stream",
     "text": [
      "hello\n"
     ]
    }
   ],
   "source": [
    "name = \"dinesh\"\n",
    "\n",
    "if name == \"dinesh\":\n",
    "    print(\"hello\")\n",
    "else:\n",
    "    print(\"bye\")\n",
    "\n",
    "\n"
   ]
  },
  {
   "cell_type": "code",
   "execution_count": 7,
   "id": "0c1a34b9-1f78-4542-adac-80cc7be34f9a",
   "metadata": {},
   "outputs": [
    {
     "name": "stdout",
     "output_type": "stream",
     "text": [
      "bye\n"
     ]
    }
   ],
   "source": [
    "name = \"dinesh\"\n",
    "\n",
    "if name == \"bala\":\n",
    "    print(\"hello\")\n",
    "else:\n",
    "    print(\"bye\")"
   ]
  },
  {
   "cell_type": "code",
   "execution_count": 25,
   "id": "7367d16e-b5c5-47a9-b34c-a813ce1da049",
   "metadata": {},
   "outputs": [
    {
     "name": "stdout",
     "output_type": "stream",
     "text": [
      "stop\n"
     ]
    }
   ],
   "source": [
    "signal = \"green\"\n",
    "police = \"yes\"\n",
    "\n",
    "if signal == \"green\" and police == \"no\":\n",
    "    print(\"go\")\n",
    "elif signal ==\"red\" or police == \"no\":\n",
    "    print(\"go\")\n",
    "else:\n",
    "    print(\"stop\")"
   ]
  },
  {
   "cell_type": "code",
   "execution_count": 29,
   "id": "4cba8e8a-1b2b-4435-ad25-13c56780cb76",
   "metadata": {},
   "outputs": [
    {
     "name": "stdout",
     "output_type": "stream",
     "text": [
      "bye\n"
     ]
    }
   ],
   "source": [
    "name=\"bala\"\n",
    "location=\"chennai\"\n",
    "\n",
    "if name==\"bala\":\n",
    "    if location==\"madurai\":\n",
    "        print(\"welcome\")\n",
    "    else:\n",
    "        print(\"bye\")"
   ]
  },
  {
   "cell_type": "code",
   "execution_count": 30,
   "id": "d76914ba-39a3-483f-8725-e75a376072b1",
   "metadata": {},
   "outputs": [
    {
     "name": "stdout",
     "output_type": "stream",
     "text": [
      "['C:\\\\Users\\\\ae188d', 'C:\\\\Users\\\\ae188d\\\\AppData\\\\Local\\\\Programs\\\\Python\\\\Python39\\\\python39.zip', 'C:\\\\Users\\\\ae188d\\\\AppData\\\\Local\\\\Programs\\\\Python\\\\Python39\\\\DLLs', 'C:\\\\Users\\\\ae188d\\\\AppData\\\\Local\\\\Programs\\\\Python\\\\Python39\\\\lib', 'C:\\\\Users\\\\ae188d\\\\AppData\\\\Local\\\\Programs\\\\Python\\\\Python39', '', 'C:\\\\Users\\\\ae188d\\\\AppData\\\\Roaming\\\\Python\\\\Python39\\\\site-packages', 'C:\\\\Users\\\\ae188d\\\\AppData\\\\Roaming\\\\Python\\\\Python39\\\\site-packages\\\\win32', 'C:\\\\Users\\\\ae188d\\\\AppData\\\\Roaming\\\\Python\\\\Python39\\\\site-packages\\\\win32\\\\lib', 'C:\\\\Users\\\\ae188d\\\\AppData\\\\Roaming\\\\Python\\\\Python39\\\\site-packages\\\\Pythonwin', 'C:\\\\Users\\\\ae188d\\\\AppData\\\\Local\\\\Programs\\\\Python\\\\Python39\\\\lib\\\\site-packages', 'C:\\\\Users\\\\ae188d\\\\AppData\\\\Roaming\\\\Python\\\\Python39\\\\site-packages\\\\IPython\\\\extensions', 'C:\\\\Users\\\\ae188d\\\\.ipython']\n"
     ]
    }
   ],
   "source": [
    "import sys\n",
    "print(sys.path)"
   ]
  },
  {
   "cell_type": "code",
   "execution_count": 31,
   "id": "cd6f6ddd-9eb2-4f48-b953-23fda98c6683",
   "metadata": {},
   "outputs": [
    {
     "name": "stdout",
     "output_type": "stream",
     "text": [
      "1\n",
      "2\n",
      "3\n",
      "4\n"
     ]
    }
   ],
   "source": [
    "## while - avoid using while loop. it will throw error if not used correctly\n",
    "a = 1\n",
    "while a < 5:\n",
    "    print(a)\n",
    "    a = a + 1"
   ]
  },
  {
   "cell_type": "code",
   "execution_count": 36,
   "id": "fcd34a1d-fd33-4719-8d2c-f7398056f5db",
   "metadata": {},
   "outputs": [
    {
     "name": "stdout",
     "output_type": "stream",
     "text": [
      "[0, 1, 2, 3, 4, 5, 6, 7, 8, 9]\n",
      "[2, 3, 4, 5, 6, 7, 8, 9, 10, 11, 12, 13, 14, 15, 16, 17, 18, 19]\n",
      "[2, 25, 48, 71, 94]\n"
     ]
    }
   ],
   "source": [
    "## For loop\n",
    "\n",
    "print(list(range(10)))\n",
    "print(list(range(2,20)))\n",
    "print(list(range(2,100,23)))"
   ]
  },
  {
   "cell_type": "code",
   "execution_count": 39,
   "id": "12aed4f7-aeb5-4d22-a376-955c078afddb",
   "metadata": {},
   "outputs": [
    {
     "name": "stdout",
     "output_type": "stream",
     "text": [
      "0\n",
      "1\n",
      "2\n",
      "3\n",
      "4\n",
      "5\n",
      "6\n",
      "7\n",
      "8\n",
      "9\n"
     ]
    }
   ],
   "source": [
    "for i in range(10):\n",
    "    print(i)"
   ]
  },
  {
   "cell_type": "code",
   "execution_count": null,
   "id": "736456f7-3c56-487f-8145-adb2bd81c982",
   "metadata": {},
   "outputs": [],
   "source": [
    "i={}\n",
    "for i in range(20):\n",
    "    if i"
   ]
  }
 ],
 "metadata": {
  "kernelspec": {
   "display_name": "Python 3",
   "language": "python",
   "name": "python3"
  },
  "language_info": {
   "codemirror_mode": {
    "name": "ipython",
    "version": 3
   },
   "file_extension": ".py",
   "mimetype": "text/x-python",
   "name": "python",
   "nbconvert_exporter": "python",
   "pygments_lexer": "ipython3",
   "version": "3.9.4"
  }
 },
 "nbformat": 4,
 "nbformat_minor": 5
}
