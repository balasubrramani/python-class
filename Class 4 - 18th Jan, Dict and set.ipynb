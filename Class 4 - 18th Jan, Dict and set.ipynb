{
 "cells": [
  {
   "cell_type": "code",
   "execution_count": 6,
   "id": "58440886-b9bc-463e-a4f9-43dfd8c2ccb8",
   "metadata": {},
   "outputs": [],
   "source": [
    "### Covered topics are list, tuple, string, int\n",
    "### today's topic is dictionary and sets\n"
   ]
  },
  {
   "cell_type": "code",
   "execution_count": 7,
   "id": "a4eec94b-4392-47a0-acd7-f3997eeed6e5",
   "metadata": {},
   "outputs": [
    {
     "name": "stdout",
     "output_type": "stream",
     "text": [
      "<class 'set'>\n",
      "True\n"
     ]
    }
   ],
   "source": [
    "# set\n",
    "a = {1,2,3,4,5}\n",
    "print(type(a))\n",
    "print(isinstance(a,set))"
   ]
  },
  {
   "cell_type": "code",
   "execution_count": 8,
   "id": "18dea932-8300-4130-99cb-11431c6d8528",
   "metadata": {},
   "outputs": [
    {
     "name": "stdout",
     "output_type": "stream",
     "text": [
      "{1, 2, 3, 4, 5, 6}\n"
     ]
    }
   ],
   "source": [
    "a={1,1,1,1,2,2,3,4,5,5,6,6,3,3,2,2,1,1,}\n",
    "print(a)"
   ]
  },
  {
   "cell_type": "code",
   "execution_count": 9,
   "id": "2edb1a7b-ec8e-4fc7-9b67-95f7de4e7439",
   "metadata": {},
   "outputs": [
    {
     "name": "stdout",
     "output_type": "stream",
     "text": [
      "{1, 2, 3, 4, 5}\n"
     ]
    }
   ],
   "source": [
    "a=[1,2,3,4,5,1,1,2,3,3,2,2,3,4,5,5,4,1]\n",
    "b=set(a)\n",
    "print(b)"
   ]
  },
  {
   "cell_type": "code",
   "execution_count": 10,
   "id": "2a87c4b3-3f42-41ff-810e-54b101aa6681",
   "metadata": {},
   "outputs": [
    {
     "name": "stdout",
     "output_type": "stream",
     "text": [
      "[1, 2, 3, 4, 5]\n"
     ]
    }
   ],
   "source": [
    "b=list(set(a))\n",
    "print(b)"
   ]
  },
  {
   "cell_type": "code",
   "execution_count": 11,
   "id": "a182f462-a693-4f84-abc0-5adb33995ae9",
   "metadata": {},
   "outputs": [
    {
     "name": "stdout",
     "output_type": "stream",
     "text": [
      "(1, 2, 3, 4, 5)\n"
     ]
    }
   ],
   "source": [
    "b=tuple(set(a))\n",
    "print(b)"
   ]
  },
  {
   "cell_type": "code",
   "execution_count": 12,
   "id": "20114ded-fd59-4bc8-8a65-f37a66da3cde",
   "metadata": {},
   "outputs": [
    {
     "ename": "TypeError",
     "evalue": "'set' object is not subscriptable",
     "output_type": "error",
     "traceback": [
      "\u001b[1;31m---------------------------------------------------------------------------\u001b[0m",
      "\u001b[1;31mTypeError\u001b[0m                                 Traceback (most recent call last)",
      "\u001b[1;32m<ipython-input-12-e98789820685>\u001b[0m in \u001b[0;36m<module>\u001b[1;34m\u001b[0m\n\u001b[0;32m      1\u001b[0m \u001b[0ma\u001b[0m\u001b[1;33m=\u001b[0m\u001b[1;33m{\u001b[0m\u001b[1;36m1\u001b[0m\u001b[1;33m,\u001b[0m\u001b[1;36m2\u001b[0m\u001b[1;33m,\u001b[0m\u001b[1;36m3\u001b[0m\u001b[1;33m}\u001b[0m\u001b[1;33m\u001b[0m\u001b[1;33m\u001b[0m\u001b[0m\n\u001b[1;32m----> 2\u001b[1;33m \u001b[0mprint\u001b[0m\u001b[1;33m(\u001b[0m\u001b[0ma\u001b[0m\u001b[1;33m[\u001b[0m\u001b[1;36m0\u001b[0m\u001b[1;33m]\u001b[0m\u001b[1;33m)\u001b[0m\u001b[1;33m\u001b[0m\u001b[1;33m\u001b[0m\u001b[0m\n\u001b[0m",
      "\u001b[1;31mTypeError\u001b[0m: 'set' object is not subscriptable"
     ]
    }
   ],
   "source": [
    "a={1,2,3}\n",
    "print(a[0])\n",
    "#indexing is not allowable in set"
   ]
  },
  {
   "cell_type": "code",
   "execution_count": 13,
   "id": "0a4d8fec-ace6-4e3e-b154-bcb16cc13f38",
   "metadata": {},
   "outputs": [
    {
     "name": "stdout",
     "output_type": "stream",
     "text": [
      "1\n",
      "3\n",
      "[1, 2, 3]\n"
     ]
    }
   ],
   "source": [
    "#min, max and sorted are allowed in set\n",
    "print(min(a))\n",
    "print(max(a))\n",
    "print(sorted(a))"
   ]
  },
  {
   "cell_type": "code",
   "execution_count": 14,
   "id": "128e2910-4d33-4c63-9371-582557513c17",
   "metadata": {},
   "outputs": [
    {
     "name": "stdout",
     "output_type": "stream",
     "text": [
      "{1, 2, 3, 4}\n"
     ]
    }
   ],
   "source": [
    "a.add(4)\n",
    "print(a)"
   ]
  },
  {
   "cell_type": "code",
   "execution_count": 15,
   "id": "65620b92-1fe1-4373-9922-7437f4764509",
   "metadata": {},
   "outputs": [
    {
     "name": "stdout",
     "output_type": "stream",
     "text": [
      "{1, 2, 3}\n"
     ]
    }
   ],
   "source": [
    "a.remove(4)\n",
    "print(a)"
   ]
  },
  {
   "cell_type": "code",
   "execution_count": 17,
   "id": "e6ba443c-dba7-47e3-b6c1-d3ad94ac77b5",
   "metadata": {},
   "outputs": [
    {
     "name": "stdout",
     "output_type": "stream",
     "text": [
      "{1, 2, 3, 5, 6, 7}\n"
     ]
    }
   ],
   "source": [
    "a={5,3,6,2,7,1}\n",
    "print(a)"
   ]
  },
  {
   "cell_type": "code",
   "execution_count": 21,
   "id": "d6c11f11-10f9-490e-9b6b-a7b33e12c614",
   "metadata": {},
   "outputs": [
    {
     "data": {
      "text/plain": [
       "1"
      ]
     },
     "execution_count": 21,
     "metadata": {},
     "output_type": "execute_result"
    }
   ],
   "source": [
    "a.pop()\n"
   ]
  },
  {
   "cell_type": "code",
   "execution_count": 22,
   "id": "d7919af1-7444-44a8-af93-1f398a9df612",
   "metadata": {},
   "outputs": [
    {
     "name": "stdout",
     "output_type": "stream",
     "text": [
      "{2, 3, 5, 6, 7}\n"
     ]
    }
   ],
   "source": [
    "print(a)"
   ]
  },
  {
   "cell_type": "code",
   "execution_count": 26,
   "id": "a3b20f56-378b-4ab5-9b7d-e20fd8943f29",
   "metadata": {},
   "outputs": [
    {
     "name": "stdout",
     "output_type": "stream",
     "text": [
      "3\n"
     ]
    }
   ],
   "source": [
    "b=a.pop()\n",
    "print(b)"
   ]
  },
  {
   "cell_type": "code",
   "execution_count": 29,
   "id": "4dcc6ee3-d735-4fb1-9680-699de0cfa36f",
   "metadata": {},
   "outputs": [
    {
     "name": "stdout",
     "output_type": "stream",
     "text": [
      "{1, 2, 3, 4, 5, 6}\n",
      "{3, 4}\n",
      "{1, 2}\n",
      "{5, 6}\n"
     ]
    }
   ],
   "source": [
    "###Advantage of set is removing duplicates\n",
    "a={1,2,3,4}\n",
    "b={3,4,5,6}\n",
    "print(a.union(b))\n",
    "print(a.intersection(b))\n",
    "print(a.difference(b))\n",
    "print(b.difference(a))"
   ]
  },
  {
   "cell_type": "code",
   "execution_count": 30,
   "id": "3c95326e-baab-41ca-84cf-ac24c4988812",
   "metadata": {},
   "outputs": [
    {
     "name": "stdout",
     "output_type": "stream",
     "text": [
      "{'ashok', 'jaga', 'kumar', 'bala'}\n",
      "{'ashok', 'kumar'}\n",
      "{'bala'}\n",
      "{'jaga'}\n"
     ]
    }
   ],
   "source": [
    "a={\"bala\",\"kumar\",\"ashok\"}\n",
    "b={\"kumar\",\"ashok\",\"jaga\"}\n",
    "print(a.union(b))\n",
    "print(a.intersection(b))\n",
    "print(a.difference(b))\n",
    "print(b.difference(a))"
   ]
  },
  {
   "cell_type": "code",
   "execution_count": 31,
   "id": "bf7ddf3f-8c45-4715-86e2-640facc6a5ef",
   "metadata": {},
   "outputs": [
    {
     "name": "stdout",
     "output_type": "stream",
     "text": [
      "False\n",
      "True\n"
     ]
    }
   ],
   "source": [
    "a={1,2}\n",
    "b={1,2,3,4,5,6}\n",
    "print(a.issuperset(b))\n",
    "print(b.issuperset(a))"
   ]
  },
  {
   "cell_type": "code",
   "execution_count": 32,
   "id": "3540f5ec-3547-4bd7-bfa6-cb87e51efd41",
   "metadata": {},
   "outputs": [
    {
     "name": "stdout",
     "output_type": "stream",
     "text": [
      "True\n",
      "False\n"
     ]
    }
   ],
   "source": [
    "print(a.issubset(b))\n",
    "print(b.issubset(a))"
   ]
  },
  {
   "cell_type": "code",
   "execution_count": 33,
   "id": "6bdbe6a5-e6b8-4731-aa85-a5a5f81700f3",
   "metadata": {},
   "outputs": [],
   "source": [
    "#index,rindex,find,rfind won't support for set"
   ]
  },
  {
   "cell_type": "code",
   "execution_count": 34,
   "id": "f01b4b4a-cf02-4d8d-ba47-ad2d275b8646",
   "metadata": {},
   "outputs": [],
   "source": [
    "#next datatype is dictionary"
   ]
  },
  {
   "cell_type": "code",
   "execution_count": 37,
   "id": "c0b7226f-635f-4a1a-af08-8409095cc32a",
   "metadata": {},
   "outputs": [
    {
     "name": "stdout",
     "output_type": "stream",
     "text": [
      "['dinesh', '30', 'chennai']\n"
     ]
    }
   ],
   "source": [
    "a=[[\"dinesh\",\"30\",\"chennai\"],[\"madurai\",\"kumar\",\"22\"]]\n",
    "b=a[0]\n",
    "print(b)"
   ]
  },
  {
   "cell_type": "code",
   "execution_count": 38,
   "id": "41c23a57-8342-4241-98bd-92910d70701c",
   "metadata": {},
   "outputs": [],
   "source": [
    "a=[{\"name\":\"dinesh\",\"age\":\"30\",\"location\":\"chennai\"},\n",
    "   {\"location\":\"madurai\",\"name\":\"kumar\",\"age\":\"22\"}]"
   ]
  },
  {
   "cell_type": "code",
   "execution_count": 39,
   "id": "4baee6d4-c11c-4a08-abd1-5519c907bedc",
   "metadata": {},
   "outputs": [
    {
     "name": "stdout",
     "output_type": "stream",
     "text": [
      "<class 'dict'>\n",
      "True\n"
     ]
    }
   ],
   "source": [
    "a={\"name\":\"dinesh\",\"age\":\"30\",\"location\":\"chennai\"}\n",
    "print(type(a))\n",
    "print(isinstance(a,dict))"
   ]
  },
  {
   "cell_type": "code",
   "execution_count": 40,
   "id": "d37c7858-1555-41ad-92b6-5805a0c96957",
   "metadata": {},
   "outputs": [],
   "source": [
    "#advantages of dict is key value pair. Key should be unique always. Value can be duplicated."
   ]
  },
  {
   "cell_type": "code",
   "execution_count": 45,
   "id": "60b92a25-1601-46fe-973a-33fae86bce17",
   "metadata": {},
   "outputs": [
    {
     "name": "stdout",
     "output_type": "stream",
     "text": [
      "kumar\n"
     ]
    }
   ],
   "source": [
    "a={\"name\":\"dinesh\",\"age\":\"30\",\"name\":\"kumar\"}\n",
    "print(a[\"name\"])"
   ]
  },
  {
   "cell_type": "code",
   "execution_count": 44,
   "id": "4a4c0907-77c1-45a1-a1da-1242eb8895f0",
   "metadata": {},
   "outputs": [
    {
     "name": "stdout",
     "output_type": "stream",
     "text": [
      "kumar\n"
     ]
    }
   ],
   "source": [
    "print(a.get(\"name\"))"
   ]
  },
  {
   "cell_type": "code",
   "execution_count": 47,
   "id": "14948e5b-bed2-4216-bdd7-fd0479c5145c",
   "metadata": {},
   "outputs": [],
   "source": [
    "#above two methods are used to get the value using key. \n",
    "#Always use the second method print(a.get(\"location\")) to get the output as none instead of error.\n",
    "#in the above example of dict, key \"name\" overrides the value of dinesh with kumar."
   ]
  },
  {
   "cell_type": "code",
   "execution_count": 49,
   "id": "b44f4bda-ac5b-4a34-95eb-e2e1bf2d8063",
   "metadata": {},
   "outputs": [
    {
     "name": "stdout",
     "output_type": "stream",
     "text": [
      "{'name': 'kumar', 'age': '30'}\n",
      "2\n",
      "age\n",
      "name\n",
      "['age', 'name']\n"
     ]
    }
   ],
   "source": [
    "print(a)\n",
    "print(len(a))\n",
    "print(min(a))\n",
    "print(max(a))\n",
    "print(sorted(a))"
   ]
  },
  {
   "cell_type": "code",
   "execution_count": 50,
   "id": "d4ec67d7-71fe-41ca-ab97-1575d84b9c42",
   "metadata": {},
   "outputs": [],
   "source": [
    "#string - anything comes in double quotes\n",
    "#int - number\n",
    "#list - group of string\n",
    "#tuple - not editable\n",
    "#set - remove duplicates, order sequencing, union and intersection\n",
    "#dictionary - key value pair, we can find the value with the help of key."
   ]
  },
  {
   "cell_type": "code",
   "execution_count": 51,
   "id": "d6e382f3-d159-4662-8d41-e7daec2efa76",
   "metadata": {},
   "outputs": [
    {
     "name": "stdout",
     "output_type": "stream",
     "text": [
      "15\n",
      "5\n",
      "50\n",
      "2.0\n",
      "0\n",
      "100000\n",
      "2\n"
     ]
    }
   ],
   "source": [
    "## operators in python\n",
    "\n",
    "#arithmetic operator\n",
    "\n",
    "b=5\n",
    "a=10\n",
    "print(a+b)\n",
    "print(a-b)\n",
    "print(a*b)\n",
    "print(a/b)\n",
    "print(a%b)  #exponential\n",
    "print(a**b) ## modulus\n",
    "print(a//b) ## floor division"
   ]
  },
  {
   "cell_type": "code",
   "execution_count": 53,
   "id": "c47e8743-b871-4a22-a69b-6b9e4330bcc5",
   "metadata": {},
   "outputs": [
    {
     "name": "stdout",
     "output_type": "stream",
     "text": [
      "balasubrramani\n"
     ]
    }
   ],
   "source": [
    "a=\"bala\"\n",
    "b=\"subrramani\"\n",
    "print(a+b)\n"
   ]
  },
  {
   "cell_type": "code",
   "execution_count": 54,
   "id": "e13cf8a6-0bb6-45c6-a4f4-1bbc4656aa3d",
   "metadata": {},
   "outputs": [
    {
     "name": "stdout",
     "output_type": "stream",
     "text": [
      "balabalabala\n"
     ]
    }
   ],
   "source": [
    "a=\"bala\"\n",
    "b=3\n",
    "print(a*b)"
   ]
  },
  {
   "cell_type": "code",
   "execution_count": 55,
   "id": "15513319-7ff7-4fd2-955c-56bb3cfe46d2",
   "metadata": {},
   "outputs": [],
   "source": [
    "## assignment operator\n",
    "\n",
    "a=5\n",
    "b=10\n",
    "\n",
    "\n"
   ]
  },
  {
   "cell_type": "code",
   "execution_count": 57,
   "id": "6d77f8e0-96c1-464e-bada-e64aac7abf73",
   "metadata": {},
   "outputs": [
    {
     "name": "stdout",
     "output_type": "stream",
     "text": [
      "False\n",
      "True\n",
      "False\n",
      "False\n",
      "True\n",
      "True\n"
     ]
    }
   ],
   "source": [
    "## relational operator\n",
    "\n",
    "a=5\n",
    "b=10\n",
    "print(a==b)\n",
    "print(a!=b)\n",
    "print(a>b)\n",
    "print(a>=b)\n",
    "print(a<b)\n",
    "print(a<=b)"
   ]
  },
  {
   "cell_type": "code",
   "execution_count": 64,
   "id": "10803686-dbdb-438d-91d2-a4dd8f846528",
   "metadata": {},
   "outputs": [
    {
     "name": "stdout",
     "output_type": "stream",
     "text": [
      "False\n",
      "True\n",
      "True\n",
      "False\n"
     ]
    }
   ],
   "source": [
    "## logical operator\n",
    "\n",
    "print(True and False)\n",
    "print(True and True)\n",
    "print(True or False)\n",
    "print(False or False)"
   ]
  },
  {
   "cell_type": "code",
   "execution_count": null,
   "id": "0abe07e0-414b-449d-a80d-55a33be20819",
   "metadata": {},
   "outputs": [],
   "source": []
  }
 ],
 "metadata": {
  "kernelspec": {
   "display_name": "Python 3",
   "language": "python",
   "name": "python3"
  },
  "language_info": {
   "codemirror_mode": {
    "name": "ipython",
    "version": 3
   },
   "file_extension": ".py",
   "mimetype": "text/x-python",
   "name": "python",
   "nbconvert_exporter": "python",
   "pygments_lexer": "ipython3",
   "version": "3.9.4"
  }
 },
 "nbformat": 4,
 "nbformat_minor": 5
}
